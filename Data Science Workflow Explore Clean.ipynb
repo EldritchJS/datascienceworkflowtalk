{
 "cells": [
  {
   "cell_type": "markdown",
   "metadata": {},
   "source": [
    "# Data Science Explore Clean Analyze Workflow\n",
    "\n",
    "Let's say I received a .csv file from a friend who's quite interested in fitness but isn't much for analyzing data (in reality said friend is a badass at analytics but that wouldn't make for as fun a story.) She asks me to have a look at the file and tell her interesting results. Rather than explain there's a lot more that needs to happen before the results point, I assure her I'll find things. \n",
    "\n",
    "## Explore\n",
    "\n",
    "The first thing to do is get the file read into my environment. It's a .csv so let's see what the first few lines look like:"
   ]
  },
  {
   "cell_type": "code",
   "execution_count": 43,
   "metadata": {},
   "outputs": [
    {
     "data": {
      "text/plain": [
       "[Row(#2621487=u'nSmpNo', 808535820=u'Day', 943010099=u'Mo',  SessionId=1 AtHash=1059340205=u'Yr'),\n",
       " Row(#2621487=u'0', 808535820=u'Friday', 943010099=u' May 26',  SessionId=1 AtHash=1059340205=u' 2017'),\n",
       " Row(#2621487=u'1', 808535820=u'Friday', 943010099=u' May 26',  SessionId=1 AtHash=1059340205=u' 2017'),\n",
       " Row(#2621487=u'2', 808535820=u'Friday', 943010099=u' May 26',  SessionId=1 AtHash=1059340205=u' 2017'),\n",
       " Row(#2621487=u'3', 808535820=u'Friday', 943010099=u' May 26',  SessionId=1 AtHash=1059340205=u' 2017')]"
      ]
     },
     "execution_count": 43,
     "metadata": {},
     "output_type": "execute_result"
    }
   ],
   "source": [
    "df=spark.read.csv(path='./p3Roos.csv',header=True, inferSchema=True)\n",
    "df.head(5)"
   ]
  },
  {
   "cell_type": "markdown",
   "metadata": {},
   "source": [
    "Ok then, looks like the first line is something other than column headers or data rows. Conveniently, it starts with a #, I'll assume any line starting with # is a comment and try again."
   ]
  },
  {
   "cell_type": "code",
   "execution_count": 44,
   "metadata": {},
   "outputs": [
    {
     "data": {
      "text/plain": [
       "[Row(nSmpNo=0, Day=u'Friday', Mo=u' May 26', Yr=2017.0, Time=u'09:24:58:200', RawSecs=1385112298, RawMilli=200, Class=255, Dlat=-110, DLon=-1816, DHeight=4379, MechPwr=71, Speed=18, North=-4.388, West=7.244, Up=3.276, Hdng=91.5, StatI=0, StatII=10, Hr=255, Jump Height=6, TotDist=0, MPower(w)=813),\n",
       " Row(nSmpNo=1, Day=u'Friday', Mo=u' May 26', Yr=2017.0, Time=u'09:24:58:300', RawSecs=1385112298, RawMilli=300, Class=255, Dlat=-112, DLon=-1777, DHeight=4379, MechPwr=79, Speed=19, North=1.624, West=7.748, Up=3.716, Hdng=91.5, StatI=0, StatII=10, Hr=255, Jump Height=4, TotDist=0, MPower(w)=920),\n",
       " Row(nSmpNo=2, Day=u'Friday', Mo=u' May 26', Yr=2017.0, Time=u'09:24:58:400', RawSecs=1385112298, RawMilli=400, Class=255, Dlat=-113, DLon=-1768, DHeight=4386, MechPwr=80, Speed=19, North=2.632, West=7.688, Up=3.772, Hdng=90.0, StatI=0, StatII=10, Hr=255, Jump Height=4, TotDist=0, MPower(w)=933),\n",
       " Row(nSmpNo=3, Day=u'Friday', Mo=u' May 26', Yr=2017.0, Time=u'09:24:58:500', RawSecs=1385112298, RawMilli=500, Class=255, Dlat=-112, DLon=-1739, DHeight=4386, MechPwr=94, Speed=20, North=7.988, West=8.036, Up=4.528, Hdng=90.0, StatI=0, StatII=10, Hr=255, Jump Height=5, TotDist=1, MPower(w)=1120),\n",
       " Row(nSmpNo=4, Day=u'Friday', Mo=u' May 26', Yr=2017.0, Time=u'09:24:58:600', RawSecs=1385112298, RawMilli=600, Class=255, Dlat=-114, DLon=-1730, DHeight=4389, MechPwr=88, Speed=19, North=7.84, West=7.884, Up=4.168, Hdng=90.0, StatI=0, StatII=10, Hr=255, Jump Height=5, TotDist=1, MPower(w)=1040)]"
      ]
     },
     "execution_count": 44,
     "metadata": {},
     "output_type": "execute_result"
    }
   ],
   "source": [
    "df=spark.read.csv(path='./p3Roos.csv',header=True, comment='#', inferSchema=True)\n",
    "df.head(5)"
   ]
  },
  {
   "cell_type": "markdown",
   "metadata": {},
   "source": [
    "I allowed Spark to infer the file's schema. It's a good idea to check the results of this inference. Can do so as follows:"
   ]
  },
  {
   "cell_type": "code",
   "execution_count": 45,
   "metadata": {},
   "outputs": [
    {
     "name": "stdout",
     "output_type": "stream",
     "text": [
      "root\n",
      " |-- nSmpNo: integer (nullable = true)\n",
      " |-- Day: string (nullable = true)\n",
      " |-- Mo: string (nullable = true)\n",
      " |-- Yr: double (nullable = true)\n",
      " |-- Time: string (nullable = true)\n",
      " |-- RawSecs: integer (nullable = true)\n",
      " |-- RawMilli: integer (nullable = true)\n",
      " |-- Class: integer (nullable = true)\n",
      " |-- Dlat: integer (nullable = true)\n",
      " |-- DLon: integer (nullable = true)\n",
      " |-- DHeight: integer (nullable = true)\n",
      " |-- MechPwr: integer (nullable = true)\n",
      " |-- Speed: integer (nullable = true)\n",
      " |-- North: double (nullable = true)\n",
      " |-- West: double (nullable = true)\n",
      " |-- Up: double (nullable = true)\n",
      " |-- Hdng: double (nullable = true)\n",
      " |-- StatI: integer (nullable = true)\n",
      " |-- StatII: integer (nullable = true)\n",
      " |-- Hr: integer (nullable = true)\n",
      " |-- Jump Height: integer (nullable = true)\n",
      " |-- TotDist: integer (nullable = true)\n",
      " |-- MPower(w): integer (nullable = true)\n",
      "\n"
     ]
    }
   ],
   "source": [
    "df.printSchema()"
   ]
  },
  {
   "cell_type": "markdown",
   "metadata": {},
   "source": [
    "I don't want the year to be a double, time to fix that. "
   ]
  },
  {
   "cell_type": "code",
   "execution_count": 46,
   "metadata": {
    "collapsed": true
   },
   "outputs": [],
   "source": [
    "from pyspark.sql.types import *\n",
    "df = df.withColumn('Yr', df['Yr'].cast(IntegerType()))"
   ]
  },
  {
   "cell_type": "markdown",
   "metadata": {},
   "source": [
    "Ok, first up, heart rate (Hr), I can get some statistics on heart rate for the session and that should already be interesting. Here we go:"
   ]
  },
  {
   "cell_type": "code",
   "execution_count": 48,
   "metadata": {},
   "outputs": [
    {
     "name": "stdout",
     "output_type": "stream",
     "text": [
      "+-------+------------------+\n",
      "|summary|                Hr|\n",
      "+-------+------------------+\n",
      "|  count|             39307|\n",
      "|   mean|181.32258885185846|\n",
      "| stddev| 75.87756529174032|\n",
      "|    min|                60|\n",
      "|    max|               255|\n",
      "+-------+------------------+\n",
      "\n"
     ]
    }
   ],
   "source": [
    "df.describe(['Hr']).show()"
   ]
  },
  {
   "cell_type": "markdown",
   "metadata": {},
   "source": [
    "My friend is **not** pleased with these results. As the max HR alone has her questioning the veracity of my interesting results. So, back to it I go, time to check out the data in a bit more detail."
   ]
  },
  {
   "cell_type": "code",
   "execution_count": 50,
   "metadata": {
    "pixiedust": {
     "displayParams": {
      "handlerId": "dataframe"
     }
    }
   },
   "outputs": [
    {
     "data": {
      "text/plain": [
       "[Row(Hr=255),\n",
       " Row(Hr=255),\n",
       " Row(Hr=255),\n",
       " Row(Hr=255),\n",
       " Row(Hr=255),\n",
       " Row(Hr=255),\n",
       " Row(Hr=255),\n",
       " Row(Hr=255),\n",
       " Row(Hr=255),\n",
       " Row(Hr=255),\n",
       " Row(Hr=255),\n",
       " Row(Hr=255),\n",
       " Row(Hr=255)]"
      ]
     },
     "execution_count": 50,
     "metadata": {},
     "output_type": "execute_result"
    }
   ],
   "source": [
    "df.select('Hr').head(13)"
   ]
  },
  {
   "cell_type": "markdown",
   "metadata": {},
   "source": [
    "Check out the heart rate column (HR) values, that's a lot of 255 values. Red flag alert! Let's plot HR against the sample number column (nSmpNo):"
   ]
  },
  {
   "cell_type": "code",
   "execution_count": 51,
   "metadata": {
    "pixiedust": {
     "displayParams": {
      "aggregation": "SUM",
      "handlerId": "lineChart",
      "keyFields": "nSmpNo",
      "rowCount": "500",
      "valueFields": "Hr"
     }
    }
   },
   "outputs": [
    {
     "data": {
      "text/plain": [
       "<matplotlib.axes._subplots.AxesSubplot at 0x119f97090>"
      ]
     },
     "execution_count": 51,
     "metadata": {},
     "output_type": "execute_result"
    },
    {
     "data": {
      "image/png": "[encoded data removed]",
      "text/plain": [
       "<matplotlib.figure.Figure at 0x1160a1390>"
      ]
     },
     "metadata": {},
     "output_type": "display_data"
    }
   ],
   "source": [
    "import pandas as pd\n",
    "pandasDF = df.toPandas()\n",
    "pandasDF['Hr'].plot()"
   ]
  },
  {
   "cell_type": "markdown",
   "metadata": {},
   "source": [
    "Oh no! Look at that! We have upper and lower rails. Clearly we'll need to be mindful of this not handling the textbook healthy HR range as well as it listing high as perhaps a NaN.\n",
    "\n",
    "Had I done further analysis of my friend's heart rate w.r.t. other metrics, I would have been using data that indicates she had a much higher heart rate than actual. Take this several steps further and we've now entered the realm of Fitbit's class action lawsuit from 2016.\n",
    "\n",
    "## Clean\n",
    "\n",
    "To resolve this circumstance, we can create a new DataFrame only containing records wherein HR is > 60 and < 255, as follows:"
   ]
  },
  {
   "cell_type": "code",
   "execution_count": 53,
   "metadata": {
    "collapsed": true
   },
   "outputs": [],
   "source": [
    "cleanerDF = df.filter(df['Hr']<255)\n",
    "cleanerDF = cleanerDF.filter(cleanerDF['Hr']>60)"
   ]
  },
  {
   "cell_type": "code",
   "execution_count": 54,
   "metadata": {
    "pixiedust": {
     "displayParams": {
      "handlerId": "scatterPlot",
      "keyFields": "DLon",
      "rendererId": "seaborn",
      "rowCount": "500",
      "valueFields": "Dlat"
     }
    }
   },
   "outputs": [
    {
     "name": "stdout",
     "output_type": "stream",
     "text": [
      "+-------+------------------+\n",
      "|summary|                Hr|\n",
      "+-------+------------------+\n",
      "|  count|             17836|\n",
      "|   mean|132.86286162816776|\n",
      "| stddev|  43.4514294410181|\n",
      "|    min|                61|\n",
      "|    max|               233|\n",
      "+-------+------------------+\n",
      "\n"
     ]
    }
   ],
   "source": [
    "cleanerDF.describe(['Hr']).show()"
   ]
  },
  {
   "cell_type": "markdown",
   "metadata": {},
   "source": [
    "As a result, my friend is much happier with this average heart rate, though she did bug me for more interesting results, which I'll get to in another notebook."
   ]
  },
  {
   "cell_type": "code",
   "execution_count": null,
   "metadata": {
    "collapsed": true
   },
   "outputs": [],
   "source": []
  }
 ],
 "metadata": {
  "kernelspec": {
   "display_name": "Python with Pixiedust (Spark 2.1)",
   "language": "python",
   "name": "pythonwithpixiedustspark21"
  },
  "language_info": {
   "codemirror_mode": {
    "name": "ipython",
    "version": 2
   },
   "file_extension": ".py",
   "mimetype": "text/x-python",
   "name": "python",
   "nbconvert_exporter": "python",
   "pygments_lexer": "ipython2",
   "version": "2.7.13"
  }
 },
 "nbformat": 4,
 "nbformat_minor": 2
}
